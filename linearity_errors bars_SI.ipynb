{
 "cells": [
  {
   "cell_type": "markdown",
   "metadata": {},
   "source": [
    "## Programming of linear regression and error bars using the example of fluorescein"
   ]
  },
  {
   "cell_type": "markdown",
   "metadata": {},
   "source": [
    "For the investigation of the linearity of a fluorescent dye, in this case fluorescein is measured at different concentrations at least three times under the same initial conditions using a fluorometer (Fluoroskan Ascent FL). The mean value and standard deviation of the series of measurements are then calculated. The regression line to be determined then visualizes that linear relationship between the measured emission and the concentration. Error bars are created to represent the standard deviation."
   ]
  },
  {
   "cell_type": "code",
   "execution_count": 1,
   "metadata": {},
   "outputs": [],
   "source": [
    "import matplotlib.pyplot as plt\n",
    "import pandas as pd\n",
    "import numpy as np\n",
    "from scipy import stats"
   ]
  },
  {
   "cell_type": "code",
   "execution_count": 2,
   "metadata": {},
   "outputs": [
    {
     "name": "stdout",
     "output_type": "stream",
     "text": [
      "   concentration  measurement1  measurement2  measurement3\n",
      "0        0.51875       2.32488       2.33126       2.32319\n",
      "1        1.03750      27.49310      27.46884      27.46912\n",
      "2        2.07500      97.33784      97.36310      97.47082\n",
      "3        4.15000     189.76600     189.45400     189.76700\n",
      "4        8.30000     673.61110     672.09500     671.37620\n",
      "5       10.00000     791.05520     793.77810     789.41400\n",
      "6       12.45000     855.49400     851.67500     849.75620\n",
      "7       16.60000    1390.92000    1387.34400    1396.71000\n"
     ]
    }
   ],
   "source": [
    "# data upload\n",
    "df = pd.read_csv(\"example_data/fluorescein_linearity.csv\")\n",
    "df.columns = ['concentration', 'measurement1','measurement2','measurement3']\n",
    "print(df)"
   ]
  },
  {
   "cell_type": "code",
   "execution_count": 3,
   "metadata": {},
   "outputs": [
    {
     "name": "stdout",
     "output_type": "stream",
     "text": [
      "   concentration  measurement1  measurement2  measurement3  average value  \\\n",
      "0        0.51875       2.32488       2.33126       2.32319       2.326443   \n",
      "1        1.03750      27.49310      27.46884      27.46912      27.477020   \n",
      "2        2.07500      97.33784      97.36310      97.47082      97.390587   \n",
      "3        4.15000     189.76600     189.45400     189.76700     189.662333   \n",
      "4        8.30000     673.61110     672.09500     671.37620     672.360767   \n",
      "5       10.00000     791.05520     793.77810     789.41400     791.415767   \n",
      "6       12.45000     855.49400     851.67500     849.75620     852.308400   \n",
      "7       16.60000    1390.92000    1387.34400    1396.71000    1391.658000   \n",
      "\n",
      "   standard derivation  \n",
      "0             0.003475  \n",
      "1             0.011371  \n",
      "2             0.057663  \n",
      "3             0.147314  \n",
      "4             0.931547  \n",
      "5             1.799787  \n",
      "6             2.384881  \n",
      "7             3.859099  \n"
     ]
    }
   ],
   "source": [
    "# calculate average value & standard derivation\n",
    "average_value = np.array([df['measurement1'],df['measurement2'],df['measurement3']])\n",
    "df['average value'] = average_value.mean(axis = 0)\n",
    "\n",
    "standard_derivation = np.array([df['measurement1'],df['measurement2'],df['measurement3']])\n",
    "df['standard derivation'] = standard_derivation.std(axis = 0)\n",
    "print(df)"
   ]
  },
  {
   "cell_type": "code",
   "execution_count": 4,
   "metadata": {},
   "outputs": [
    {
     "data": {
      "image/png": "[encoded data removed]",
      "text/plain": [
       "<Figure size 432x288 with 1 Axes>"
      ]
     },
     "metadata": {
      "needs_background": "light"
     },
     "output_type": "display_data"
    }
   ],
   "source": [
    "# define variables\n",
    "x = df['concentration']\n",
    "y = df['average value']\n",
    "yerr = df['standard derivation']\n",
    "\n",
    "# linear regression\n",
    "slope, intercept, r, p, std_err = stats.linregress(x, y)\n",
    "def myfunc(x):\n",
    "  return slope * x + intercept\n",
    "mymodel = list(map(myfunc, x))\n",
    "\n",
    "# error bars\n",
    "fig, ax = plt.subplots()\n",
    "ax.errorbar(x, y, yerr=yerr, fmt='.', color='black', ms=3, capsize = 5)\n",
    "\n",
    "# plot data\n",
    "plt.scatter('concentration', 'average value', data=df, marker='.', color='black')\n",
    "plt.ylabel('fluorescence (a.u.)')\n",
    "plt.xlabel('concentration (µM)')\n",
    "plt.axis( [0,17,-10,1450])\n",
    "plt.plot(x, mymodel)\n",
    "plt.legend(labels=('linear regression','fluorescein','standard derivation'), loc='upper left', fontsize='x-small')\n",
    "plt.show()"
   ]
  },
  {
   "cell_type": "code",
   "execution_count": null,
   "metadata": {},
   "outputs": [],
   "source": []
  }
 ],
 "metadata": {
  "kernelspec": {
   "display_name": "Python 3",
   "language": "python",
   "name": "python3"
  },
  "language_info": {
   "codemirror_mode": {
    "name": "ipython",
    "version": 3
   },
   "file_extension": ".py",
   "mimetype": "text/x-python",
   "name": "python",
   "nbconvert_exporter": "python",
   "pygments_lexer": "ipython3",
   "version": "3.8.3"
  }
 },
 "nbformat": 4,
 "nbformat_minor": 4
}
