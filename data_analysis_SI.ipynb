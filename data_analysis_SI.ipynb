{
 "cells": [
  {
   "cell_type": "markdown",
   "id": "94238a05",
   "metadata": {},
   "source": [
    "## Data evaluation of measured emission values by means of optical spectroscopy"
   ]
  },
  {
   "cell_type": "code",
   "execution_count": 1,
   "id": "6f3f0db2",
   "metadata": {},
   "outputs": [],
   "source": [
    "import matplotlib.pyplot as plt\n",
    "import matplotlib.ticker as ticker\n",
    "import pandas as pd\n",
    "import numpy as np\n",
    "from scipy import optimize"
   ]
  },
  {
   "cell_type": "markdown",
   "id": "0d23effe",
   "metadata": {},
   "source": [
    "### 1. Define function for FRET/Quenching probability calculation"
   ]
  },
  {
   "cell_type": "markdown",
   "id": "02c9d80c",
   "metadata": {},
   "source": [
    "The measured emission values by means of fluorometer (in our case Fluoroskan Ascent FL) must be corrected in the first step by means of background signal, bleed-through and direct excitation. The correction is done according to Börner et al. [1]. Using the corrected values, the FRET signal and the quenching probability as well as the hill function can be calculated. \n",
    "___\n",
    "**Förster Resonance Energy Transfer (FRET)** is calculated from:        \n",
    "$$FRET=\\frac{I_{D.ex}^{A.em}}{I_{D.ex}^{D.em}+I_{D.ex}^{A.em}}$$\\\n",
    "$I$.. intensity\\\n",
    "$D$.. donor fluorophore\\\n",
    "$A$.. acceptor fluorophore\\\n",
    "$ex$.. excitation\\\n",
    "$em$.. emission\\\n",
    "\\\n",
    "The **quenching probability (QP)** is calculated from: \n",
    "$$QP=1-\\frac{I_D}{I_{D0}}$$\\\n",
    "$I_{D}$.. intensity of the donor\\\n",
    "$I_{D0}$.. intensity of the donor without addition of metal ions, buffer or complexing reagent\\\n",
    "\\\n",
    "The well-known **Hill equation** is defined as:\n",
    "$$FRET_{[Mg(II)]} = FRET_{min} + FRET_{max} \\frac{[Mg(II)]^{n}}{K_{eq.Mg(II)} + [Mg(II)]^{n}}$$\\\n",
    "$n$.. Hill coefficient\\\n",
    "$K_{eq}$.. associated equilibrium constant\n",
    "\n",
    "\n",
    "[1] Börner, R., Kowerko, D., Hadzic, M. C., König, S. L., Ritter, M., & Sigel, R. K. (2018). Simulations of camera-based single-molecule fluorescence experiments. PloS one, 13(4)"
   ]
  },
  {
   "cell_type": "code",
   "execution_count": 2,
   "id": "63fd80ac",
   "metadata": {},
   "outputs": [],
   "source": [
    "def calculate_FRET_QP(data_file, cor_param):\n",
    "    # read data file\n",
    "    data = pd.read_csv(data_file)\n",
    "    data.columns = ['concentration', 'temperature','Dem_Dex', 'Aem_Aex','Aem_Dex']\n",
    "    # x = measurement at 538-604 nm doner emission after donor exitation\n",
    "    # y = measurement at 646-680 nm acceptor emission after dcceptor exitation\n",
    "    # z = measurement at 538-680 nm acceptor emission after donor exitation\n",
    "    \n",
    "    # correct data and calculate FRET\n",
    "    temps = data.temperature.unique()\n",
    "    iterator = 0\n",
    "    qp_values, correct_donor, correct_acceptor = [], [], []\n",
    "    \n",
    "    for i in temps:\n",
    "        filtered_df= []\n",
    "        filtered_df = data[data.temperature == i]\n",
    "        qp_values.extend((1-(filtered_df.Dem_Dex/filtered_df.Dem_Dex[iterator]))*100)\n",
    "        correct_donor.extend(((filtered_df.Dem_Dex - cor_param[str(i)][0]) - (cor_param[\"bleedthrough_acceptor\"] * filtered_df.Aem_Dex) - (cor_param[\"direct_excitation_donor\"]*0))*0.2)\n",
    "        correct_acceptor.extend(((filtered_df.Aem_Dex - cor_param[str(i)][1]) - (cor_param[\"bleedthrough_donor\"] * filtered_df.Dem_Dex) - (cor_param[\"direct_excitation_acceptor\"]*filtered_df.Aem_Aex))*0.24)\n",
    "        iterator = iterator + len(filtered_df-1)\n",
    " \n",
    "    data['correct_I_Donor'] = correct_donor\n",
    "    data['correct_I_Acceptor'] = correct_acceptor\n",
    "    data['FRET'] = data['correct_I_Acceptor']/(data['correct_I_Donor'] + data['correct_I_Acceptor'])    \n",
    "    data['QP'] = qp_values\n",
    "    return data\n",
    "\n",
    "def hill_function(Mg,k_eq,n):\n",
    "    return min(filtered_df.FRET) + (max(filtered_df.FRET) - min(filtered_df.FRET)) * (Mg**n / (k_eq + Mg**n))"
   ]
  },
  {
   "cell_type": "markdown",
   "id": "28b64875",
   "metadata": {},
   "source": [
    "### 2. Call parameters und functions\n"
   ]
  },
  {
   "cell_type": "markdown",
   "id": "5fbbc5ea",
   "metadata": {},
   "source": [
    "The values for background signal, bleed-through and direct excitation are determined in advance and stored in a dictionary."
   ]
  },
  {
   "cell_type": "code",
   "execution_count": 3,
   "id": "36f11095",
   "metadata": {},
   "outputs": [
    {
     "name": "stdout",
     "output_type": "stream",
     "text": [
      "    concentration  temperature   Dem_Dex   Aem_Aex   Aem_Dex  correct_I_Donor  \\\n",
      "0            0.00           20  2.330474  2.385818  4.556314         0.445295   \n",
      "1            0.01           20  2.494638  2.508133  4.784019         0.478128   \n",
      "2            0.10           20  2.559295  2.550134  4.946433         0.491059   \n",
      "3            1.00           20  3.143641  3.160844  6.547635         0.607928   \n",
      "4            2.50           20  2.945218  3.104777  6.893043         0.568244   \n",
      "..            ...          ...       ...       ...       ...              ...   \n",
      "67          10.00           43  1.181422  1.893348  4.163830         0.221084   \n",
      "68          25.00           43  0.915365  1.713088  3.569832         0.167873   \n",
      "69          50.00           43  0.649950  1.536611  2.703561         0.114790   \n",
      "70          75.00           43  0.480414  1.424933  3.378807         0.080883   \n",
      "71         100.00           43  0.534506  1.431797  3.449168         0.091701   \n",
      "\n",
      "    correct_I_Acceptor      FRET         QP  \n",
      "0             0.350650  0.440546   0.000000  \n",
      "1             0.371965  0.437558  -7.044203  \n",
      "2             0.399000  0.448285  -9.818645  \n",
      "3             0.630972  0.509300 -34.892754  \n",
      "4             0.736540  0.564492 -26.378464  \n",
      "..                 ...       ...        ...  \n",
      "67            0.438671  0.664900  -8.159050  \n",
      "68            0.346685  0.673753  16.198405  \n",
      "69            0.188588  0.621627  40.497104  \n",
      "70            0.382262  0.825362  56.018110  \n",
      "71            0.394585  0.811426  51.066041  \n",
      "\n",
      "[72 rows x 9 columns]\n"
     ]
    }
   ],
   "source": [
    "# dictonary for correction parameter\n",
    "correction_patameter = {\n",
    "    \n",
    "# \"temperature\": [blank_x, blank_z]\n",
    "    \"20\": [0.104,0.604],\n",
    "    \"25\": [0.103,0.594],\n",
    "    \"30\": [0.092,0.571],\n",
    "    \"35\": [0.089,0.567],\n",
    "    \"40\": [0.089,0.555],\n",
    "    \"43\": [0.076,0.526],\n",
    "    \n",
    "    \"bleedthrough_donor\": 0.25,\n",
    "    \"bleedthrough_acceptor\": 0,\n",
    "    \n",
    "    \"direct_excitation_donor\": 0,\n",
    "    \"direct_excitation_acceptor\": 0.8,\n",
    "}\n",
    "\n",
    "df = calculate_FRET_QP('example_data/example_data.csv', correction_patameter)\n",
    "print(df)"
   ]
  },
  {
   "cell_type": "markdown",
   "id": "65841bea",
   "metadata": {},
   "source": [
    "### 3. Plot FRET value per temperatur"
   ]
  },
  {
   "cell_type": "code",
   "execution_count": 4,
   "id": "c98c3ac3",
   "metadata": {},
   "outputs": [
    {
     "name": "stdout",
     "output_type": "stream",
     "text": [
      "    concentration  temperature   Dem_Dex   Aem_Aex    Aem_Dex  \\\n",
      "0            0.00           20  2.330474  2.385818   4.556314   \n",
      "1            0.01           20  2.494638  2.508133   4.784019   \n",
      "2            0.10           20  2.559295  2.550134   4.946433   \n",
      "3            1.00           20  3.143641  3.160844   6.547635   \n",
      "4            2.50           20  2.945218  3.104777   6.893043   \n",
      "5            5.00           20  2.669469  3.128927   8.268086   \n",
      "6            7.50           20  2.554460  3.075923   8.347425   \n",
      "7           10.00           20  2.449063  3.328413  10.857633   \n",
      "8           25.00           20  1.873530  3.305583  13.785840   \n",
      "9           50.00           20  1.294954  3.201640  15.871437   \n",
      "10          75.00           20  0.978647  2.999920  18.033343   \n",
      "11         100.00           20  0.857210  2.750897  13.796870   \n",
      "\n",
      "    correct_I_Donor  correct_I_Acceptor      FRET         QP  \n",
      "0          0.445295            0.350650  0.440546   0.000000  \n",
      "1          0.478128            0.371965  0.437558  -7.044203  \n",
      "2          0.491059            0.399000  0.448285  -9.818645  \n",
      "3          0.607928            0.630972  0.509300 -34.892754  \n",
      "4          0.568244            0.736540  0.564492 -26.378464  \n",
      "5          0.513094            1.078458  0.677614 -14.546152  \n",
      "6          0.490092            1.114577  0.694584  -9.611162  \n",
      "7          0.469013            1.674873  0.781232  -5.088621  \n",
      "8          0.353906            2.416558  0.872257  19.607339  \n",
      "9          0.238191            2.971773  0.925796  44.433887  \n",
      "10         0.174929            3.548339  0.953017  58.006540  \n",
      "11         0.150642            2.586684  0.944967  63.217338  \n",
      "K_eq =\n",
      "9.004608682186724\n",
      "n =\n",
      "1.2176615081336697\n"
     ]
    },
    {
     "name": "stderr",
     "output_type": "stream",
     "text": [
      "/var/folders/zf/wpmcnbjn53lgn5jk3smt4cv80000gn/T/ipykernel_5866/2968367232.py:30: UserWarning: FixedFormatter should only be used together with FixedLocator\n",
      "  left.set_xticklabels(['','0.00',''])\n",
      "/var/folders/zf/wpmcnbjn53lgn5jk3smt4cv80000gn/T/ipykernel_5866/2968367232.py:36: UserWarning: FixedFormatter should only be used together with FixedLocator\n",
      "  right.set_xticklabels(values)\n"
     ]
    },
    {
     "data": {
      "image/png": "[encoded data removed]",
      "text/plain": [
       "<Figure size 432x288 with 2 Axes>"
      ]
     },
     "metadata": {
      "needs_background": "light"
     },
     "output_type": "display_data"
    }
   ],
   "source": [
    "# filter the temperature \n",
    "filtered_df = df[df.temperature == 20]\n",
    "print(filtered_df)\n",
    "\n",
    "# define plot\n",
    "f, (left, right) = plt.subplots(1, 2, sharey=True, sharex=False, gridspec_kw={'width_ratios': [1, 3.5]})\n",
    "\n",
    "plt.subplots_adjust(wspace = .05)\n",
    "\n",
    "f.text(0.5, 0, '$c_{Mg(II)}$ in mM', ha='center', fontsize=11)\n",
    "f.text(0.04, 0.5, '$\\mathit{FRET}$', va='center', rotation='vertical', fontsize=11)\n",
    "\n",
    "# create values for x-scale\n",
    "values= ['0','0','0.01','0.1','1','10','100']\n",
    "\n",
    "# calculate Hill parameters\n",
    "params, params_covariance = optimize.curve_fit(hill_function, filtered_df.concentration, filtered_df.FRET)\n",
    "print('K_eq ='), print(params[0]), print('n ='), print(params[1])\n",
    "\n",
    "# draw plot for the two plots\n",
    "left.scatter(filtered_df.concentration, filtered_df.FRET, marker='.', color='black', linewidth=1, alpha=0.9, label=str(df.temperature[0])+'°C')\n",
    "right.scatter(filtered_df.concentration, filtered_df.FRET, marker='.', color='black', linewidth=1, alpha=0.9, label=str(df.temperature[0])+'°C')\n",
    "right.plot(filtered_df.concentration, hill_function(filtered_df.concentration, params[0], params[1]),\n",
    "         label='Fitted function')\n",
    "left.plot(filtered_df.concentration, hill_function(filtered_df.concentration, params[0], params[1]),\n",
    "         label='Fitted function')\n",
    "\n",
    "# specifications for the left plot\n",
    "left.set_ylim([0,1])\n",
    "left.set_xticklabels(['','0.00',''])\n",
    "left.set_xlim(-0.005,0.005)\n",
    "left.spines['right'].set_visible(False)\n",
    "\n",
    "# specifications for the right plot\n",
    "right.set_xscale('log')\n",
    "right.set_xticklabels(values)\n",
    "right.set_xlim(0.005, 125)\n",
    "right.spines['left'].set_visible(False)\n",
    "right.get_yaxis().set_visible(False)   \n",
    "\n",
    "# define strokes\n",
    "d = .015 \n",
    "kwargs = dict(transform=left.transAxes, color='k', clip_on=False)\n",
    "left.plot((1-d*1.5,1+d*1.5), (-d,+d), ** kwargs)\n",
    "left.plot((1-d*1.5,1+d*1.5),(1-d,1+d), ** kwargs)\n",
    "kwargs.update(transform=right.transAxes)\n",
    "right.plot((-d/2,+d/2), (1-d,1+d), ** kwargs)\n",
    "right.plot((-d/2,+d/2), (-d,+d), ** kwargs)\n",
    "\n",
    "# legend\n",
    "plt.legend(bbox_to_anchor=(1.01, 1), loc='upper left', fontsize='small', borderaxespad=0)\n",
    "\n",
    "plt.show()"
   ]
  },
  {
   "cell_type": "markdown",
   "id": "52f2e3e0",
   "metadata": {},
   "source": [
    "### 4. Plot FRET values per temperatures\n"
   ]
  },
  {
   "cell_type": "code",
   "execution_count": 5,
   "id": "b51a936e",
   "metadata": {
    "scrolled": true
   },
   "outputs": [
    {
     "name": "stderr",
     "output_type": "stream",
     "text": [
      "/var/folders/zf/wpmcnbjn53lgn5jk3smt4cv80000gn/T/ipykernel_5866/2545571830.py:29: UserWarning: FixedFormatter should only be used together with FixedLocator\n",
      "  left.set_xticklabels(['','0.00',''])\n",
      "/var/folders/zf/wpmcnbjn53lgn5jk3smt4cv80000gn/T/ipykernel_5866/2545571830.py:35: UserWarning: FixedFormatter should only be used together with FixedLocator\n",
      "  right.set_xticklabels(values)\n"
     ]
    },
    {
     "data": {
      "image/png": "[encoded data removed]",
      "text/plain": [
       "<Figure size 432x288 with 2 Axes>"
      ]
     },
     "metadata": {
      "needs_background": "light"
     },
     "output_type": "display_data"
    }
   ],
   "source": [
    "f, (left, right) = plt.subplots(1, 2, sharey=True, sharex=False, gridspec_kw={'width_ratios': [1, 3.5]})\n",
    "\n",
    "plt.subplots_adjust(wspace = .05)\n",
    "\n",
    "f.text(0.5, 0, '$c_{Mg(II)}$ in mM', ha='center', fontsize=11)\n",
    "f.text(0.04, 0.5, '$\\mathit{FRET}$', va='center', rotation='vertical', fontsize=11)\n",
    "\n",
    "# create values for x-scale\n",
    "values= ['0','0','0.01','0.1','1','10','100']\n",
    "\n",
    "# draw plot for the two plots\n",
    "temps = df.temperature.unique()\n",
    "palette = plt.get_cmap('YlOrRd',len(temps))\n",
    "\n",
    "num=-1\n",
    "for i in temps:\n",
    "    num+=1\n",
    "    filtered_df = df[df.temperature == i]\n",
    "    params, params_covariance = optimize.curve_fit(hill_function, filtered_df.concentration, filtered_df.FRET)\n",
    "    #print('K_eq ='), print(params[0]), print('n ='), print(params[1]) \n",
    "    left.scatter(filtered_df.concentration, filtered_df.FRET, marker='.', color=palette(num), linewidth=1, alpha=0.9, label=str(i)+'°C')\n",
    "    right.scatter(filtered_df.concentration, filtered_df.FRET, marker='.', color=palette(num), linewidth=1, alpha=0.9, label=str(i)+'°C')\n",
    "    if i == 20:\n",
    "        right.plot(filtered_df.concentration, hill_function(filtered_df.concentration, params[0], params[1]), color=palette(num))\n",
    "        left.plot(filtered_df.concentration, hill_function(filtered_df.concentration, params[0], params[1]),color=palette(num))\n",
    "    \n",
    "# specifications for the left plot\n",
    "    left.set_ylim([0,1])\n",
    "    left.set_xticklabels(['','0.00',''])\n",
    "    left.set_xlim(-0.005,0.005)\n",
    "    left.spines['right'].set_visible(False)\n",
    "\n",
    "# specifications for the right plot\n",
    "    right.set_xscale('log')\n",
    "    right.set_xticklabels(values)\n",
    "    right.set_xlim(0.005, 125)\n",
    "    right.spines['left'].set_visible(False)\n",
    "    right.get_yaxis().set_visible(False)   \n",
    "\n",
    "# define strokes\n",
    "d = .015 \n",
    "kwargs = dict(transform=left.transAxes, color='k', clip_on=False)\n",
    "left.plot((1-d*1.5,1+d*1.5), (-d,+d), ** kwargs)\n",
    "left.plot((1-d*1.5,1+d*1.5),(1-d,1+d), ** kwargs)\n",
    "kwargs.update(transform=right.transAxes)\n",
    "right.plot((-d/2,+d/2), (1-d,1+d), ** kwargs)\n",
    "right.plot((-d/2,+d/2), (-d,+d), ** kwargs)\n",
    "\n",
    "# legend\n",
    "plt.legend(bbox_to_anchor=(1.01, 1), loc='upper left', fontsize='small', borderaxespad=0)\n",
    "#plt.savefig(\"figure.svg\")\n",
    "plt.show()"
   ]
  },
  {
   "cell_type": "markdown",
   "id": "fd595a9c",
   "metadata": {},
   "source": [
    "### 5. Plot quenching propability per temperatures"
   ]
  },
  {
   "cell_type": "code",
   "execution_count": 6,
   "id": "c6c7b39d",
   "metadata": {},
   "outputs": [
    {
     "name": "stderr",
     "output_type": "stream",
     "text": [
      "/var/folders/zf/wpmcnbjn53lgn5jk3smt4cv80000gn/T/ipykernel_5866/1707134119.py:24: UserWarning: FixedFormatter should only be used together with FixedLocator\n",
      "  left.set_xticklabels(['','0.00',''])\n",
      "/var/folders/zf/wpmcnbjn53lgn5jk3smt4cv80000gn/T/ipykernel_5866/1707134119.py:30: UserWarning: FixedFormatter should only be used together with FixedLocator\n",
      "  right.set_xticklabels(values)\n"
     ]
    },
    {
     "data": {
      "image/png": "[encoded data removed]",
      "text/plain": [
       "<Figure size 432x288 with 2 Axes>"
      ]
     },
     "metadata": {
      "needs_background": "light"
     },
     "output_type": "display_data"
    }
   ],
   "source": [
    "f, (left, right) = plt.subplots(1, 2, sharey=True, sharex=False, gridspec_kw={'width_ratios': [1, 3.5]})\n",
    "\n",
    "plt.subplots_adjust(wspace = .05)\n",
    "\n",
    "f.text(0.5, 0, '$c_{Mg(II)}$ in mM', ha='center', fontsize=11)\n",
    "f.text(0.04, 0.5, 'Quenching Propability in %', va='center', rotation='vertical', fontsize=11)\n",
    "\n",
    "# create values for x-scale\n",
    "values= ['0','0','0.01','0.1','1','10','100']\n",
    "\n",
    "# draw plot for the two plots\n",
    "temps = df.temperature.unique()\n",
    "palette = plt.get_cmap('YlOrRd',len(temps))\n",
    "\n",
    "num=-1\n",
    "for i in temps:\n",
    "    num+=1\n",
    "    filtered_df = df[df.temperature == i]\n",
    "    left.scatter(filtered_df.concentration, filtered_df.QP, marker='.', color=palette(num), linewidth=1, alpha=0.9, label=str(i)+'°C')\n",
    "    right.scatter(filtered_df.concentration, filtered_df.QP, marker='.', color=palette(num), linewidth=1, alpha=0.9, label=str(i)+'°C')\n",
    "\n",
    "# specifications for the left plot\n",
    "    left.set_ylim([-40,100])\n",
    "    left.set_xticklabels(['','0.00',''])\n",
    "    left.set_xlim(-0.005,0.005)\n",
    "    left.spines['right'].set_visible(False)\n",
    "\n",
    "# specifications for the right plot\n",
    "    right.set_xscale('log')\n",
    "    right.set_xticklabels(values)\n",
    "    right.set_xlim(0.005, 125)\n",
    "    right.spines['left'].set_visible(False)\n",
    "    right.get_yaxis().set_visible(False)   \n",
    "\n",
    "# define strokes\n",
    "d = .015 \n",
    "kwargs = dict(transform=left.transAxes, color='k', clip_on=False)\n",
    "left.plot((1-d*1.5,1+d*1.5), (-d,+d), ** kwargs)\n",
    "left.plot((1-d*1.5,1+d*1.5),(1-d,1+d), ** kwargs)\n",
    "kwargs.update(transform=right.transAxes)\n",
    "right.plot((-d/2,+d/2), (1-d,1+d), ** kwargs)\n",
    "right.plot((-d/2,+d/2), (-d,+d), ** kwargs)\n",
    "\n",
    "# legend\n",
    "plt.legend(bbox_to_anchor=(1.01, 1), loc='upper left', fontsize='small', borderaxespad=0)\n",
    "\n",
    "plt.show()"
   ]
  },
  {
   "cell_type": "markdown",
   "id": "5079a81d",
   "metadata": {},
   "source": [
    "### 6. Plot FRET values per concentrations"
   ]
  },
  {
   "cell_type": "code",
   "execution_count": 7,
   "id": "8beb747a",
   "metadata": {},
   "outputs": [
    {
     "data": {
      "image/png": "[encoded data removed]",
      "text/plain": [
       "<Figure size 432x288 with 1 Axes>"
      ]
     },
     "metadata": {
      "needs_background": "light"
     },
     "output_type": "display_data"
    }
   ],
   "source": [
    "conc = df.concentration.unique()\n",
    "palette = plt.get_cmap('Spectral',len(conc))\n",
    "\n",
    "num=-1\n",
    "for i in conc:\n",
    "    num+=1\n",
    "    filtered_df = df[df.concentration == i]\n",
    "    plt.scatter(filtered_df.temperature, filtered_df.FRET, marker='.', color=palette(num+1), linewidth=1, alpha=0.9, label=str(i)+' mM')\n",
    "    plt.axis( [18,45,0,1])\n",
    "    plt.xlabel('temperature in °C', fontsize=11)\n",
    "    plt.ylabel('$\\mathit{FRET}$', fontsize=11)\n",
    "    \n",
    "# legend\n",
    "plt.legend(bbox_to_anchor=(1.01, 1), loc='upper left', fontsize='small', borderaxespad=0)\n",
    "\n",
    "plt.show()"
   ]
  },
  {
   "cell_type": "code",
   "execution_count": null,
   "id": "6b1e4a5a",
   "metadata": {},
   "outputs": [],
   "source": []
  }
 ],
 "metadata": {
  "kernelspec": {
   "display_name": "Python 3 (ipykernel)",
   "language": "python",
   "name": "python3"
  },
  "language_info": {
   "codemirror_mode": {
    "name": "ipython",
    "version": 3
   },
   "file_extension": ".py",
   "mimetype": "text/x-python",
   "name": "python",
   "nbconvert_exporter": "python",
   "pygments_lexer": "ipython3",
   "version": "3.9.7"
  }
 },
 "nbformat": 4,
 "nbformat_minor": 5
}
