{
 "cells": [
  {
   "cell_type": "markdown",
   "id": "94238a05",
   "metadata": {},
   "source": [
    "## ID5\n",
    "This Jupyter notebook shows the application of the ID5 class and its functions."
   ]
  },
  {
   "cell_type": "code",
   "execution_count": 1,
   "id": "6f3f0db2",
   "metadata": {},
   "outputs": [
    {
     "data": {
      "text/plain": "<Figure size 432x288 with 1 Axes>",
      "image/png": "[encoded data removed]"
     },
     "metadata": {},
     "output_type": "display_data"
    }
   ],
   "source": [
    "import matplotlib.pyplot as plt\n",
    "import pandas as pd\n",
    "from src import devices as blab\n",
    "from scipy import optimize"
   ]
  },
  {
   "cell_type": "markdown",
   "source": [
    "FRET measurements use emission and excitation wavelengths. These are not completely or incorrectly exported when writing the ID5 files. To use these values in the FRET calculation, they are passed to the ID5 class in a dictionary.\n",
    "\n",
    "If the file has been successfully loaded, the measurements that have been read in will be displayed.\n",
    "The measurements are named with \"measurement_\" and a consecutive number."
   ],
   "metadata": {
    "collapsed": false
   }
  },
  {
   "cell_type": "code",
   "execution_count": 2,
   "outputs": [
    {
     "name": "stdout",
     "output_type": "stream",
     "text": [
      "Measurement_1 = FRET_21°C: Endpoint, Fluorescence\n",
      "Measurement_2 = FRET_23°C: Endpoint, Fluorescence\n",
      "Measurement_3 = FRET_25°C: Endpoint, Fluorescence\n",
      "Measurement_4 = FRET_27°C: Endpoint, Fluorescence\n",
      "Measurement_5 = FRET_29°C: Endpoint, Fluorescence\n",
      "Measurement_6 = FRET_31°C: Endpoint, Fluorescence\n",
      "Measurement_7 = FRET_33°C: Endpoint, Fluorescence\n",
      "Measurement_8 = FRET_35°C: Endpoint, Fluorescence\n",
      "Measurement_9 = FRET_37°C: Endpoint, Fluorescence\n",
      "Measurement_10 = FRET_39°C: Endpoint, Fluorescence\n",
      "Measurement_11 = FRET_41°C: Endpoint, Fluorescence\n",
      "Measurement_12 = FRET_43°C: Endpoint, Fluorescence\n",
      "Measurement_13 = FRET_45°C: Endpoint, Fluorescence\n",
      "Measurement_14 = FRET_47°C: Endpoint, Fluorescence\n",
      "Measurement_15 = FRET_49°C: Endpoint, Fluorescence\n",
      "Measurement_16 = FRET_51°C: Endpoint, Fluorescence\n",
      "Measurement_17 = FRET_53°C: Endpoint, Fluorescence\n",
      "Measurement_18 = FRET_55°C: Endpoint, Fluorescence\n",
      "Measurement_19 = FRET_57°C: Endpoint, Fluorescence\n",
      "Measurement_20 = FRET_59°C: Endpoint, Fluorescence\n",
      "Measurement_21 = FRET_61°C: Endpoint, Fluorescence\n",
      "Measurement_22 = FRET_63°C: Endpoint, Fluorescence\n",
      "Measurement_23 = FRET_65°C: Endpoint, Fluorescence\n"
     ]
    }
   ],
   "source": [
    "wavelength_pairs = {\n",
    "    \"Dex_Dem\": [530, 595],\n",
    "    \"Dex_Aem\": [530, 660],\n",
    "    \"Aex_Aem\": [630, 660]\n",
    "}\n",
    "my_id5_data = blab.ID5(\"src/id5_data/2023-05-22_NaCl-titration_VS.txt\", wavelength_pairs)"
   ],
   "metadata": {
    "collapsed": false
   }
  },
  {
   "cell_type": "markdown",
   "source": [
    "## How do I get access to my data?\n",
    "\n",
    "The measurements are kept in the attribute \"measurements\" of the variable \"my_id5_data\".\n",
    "This is simply a dictionary that contains all measurements.\n",
    "\n",
    "The following code is used to gain access to the first measurement."
   ],
   "metadata": {
    "collapsed": false
   }
  },
  {
   "cell_type": "code",
   "execution_count": 3,
   "outputs": [
    {
     "name": "stdout",
     "output_type": "stream",
     "text": [
      "<src.devices.ID5MeasureFluorescence object at 0x137483040>\n"
     ]
    }
   ],
   "source": [
    "print(my_id5_data.measurements[\"Measurement_1\"])"
   ],
   "metadata": {
    "collapsed": false
   }
  },
  {
   "cell_type": "markdown",
   "source": [
    "When accessing measurement 1, the result appears unusual. This is due to the fact that the measurements are saved as objects.\n",
    "Objects are, in a nutshell, complex variables. They have attributes such as the measurement's name or the data in a dataframe. Furthermore, the objects include functions that can be used to improve data interaction.\n",
    "Let us now store the measurement in a new variable and examine the name of the measurement and the data in it. The informations are stored in the \"section_name\" and \"working_df\" attribute.\n",
    "\n",
    "Consider the following:"
   ],
   "metadata": {
    "collapsed": false
   }
  },
  {
   "cell_type": "code",
   "execution_count": 4,
   "outputs": [
    {
     "name": "stdout",
     "output_type": "stream",
     "text": [
      "Name of the Measuremnt = FRET_21°C\n"
     ]
    },
    {
     "data": {
      "text/plain": "     excitation wavelength (nm)  emission wavelength (nm)  temperature (°C)  \\\n0                           530                       595              21.5   \n1                           530                       595              21.5   \n2                           530                       595              21.5   \n3                           530                       595              21.5   \n4                           530                       595              21.5   \n..                          ...                       ...               ...   \n211                         630                       660              21.5   \n212                         630                       660              21.5   \n213                         630                       660              21.5   \n214                         630                       660              21.5   \n215                         630                       660              21.5   \n\n    wellnumber      RFU  \n0           A1     3910  \n1           A2   670661  \n2           A3   548059  \n3           A4  1061004  \n4           A5  1016300  \n..         ...      ...  \n211         H5     4266  \n212         H6  5750122  \n213         H7     5296  \n214         H8  5189372  \n215         H9     6640  \n\n[216 rows x 5 columns]",
      "text/html": "<div>\n<style scoped>\n    .dataframe tbody tr th:only-of-type {\n        vertical-align: middle;\n    }\n\n    .dataframe tbody tr th {\n        vertical-align: top;\n    }\n\n    .dataframe thead th {\n        text-align: right;\n    }\n</style>\n<table border=\"1\" class=\"dataframe\">\n  <thead>\n    <tr style=\"text-align: right;\">\n      <th></th>\n      <th>excitation wavelength (nm)</th>\n      <th>emission wavelength (nm)</th>\n      <th>temperature (°C)</th>\n      <th>wellnumber</th>\n      <th>RFU</th>\n    </tr>\n  </thead>\n  <tbody>\n    <tr>\n      <th>0</th>\n      <td>530</td>\n      <td>595</td>\n      <td>21.5</td>\n      <td>A1</td>\n      <td>3910</td>\n    </tr>\n    <tr>\n      <th>1</th>\n      <td>530</td>\n      <td>595</td>\n      <td>21.5</td>\n      <td>A2</td>\n      <td>670661</td>\n    </tr>\n    <tr>\n      <th>2</th>\n      <td>530</td>\n      <td>595</td>\n      <td>21.5</td>\n      <td>A3</td>\n      <td>548059</td>\n    </tr>\n    <tr>\n      <th>3</th>\n      <td>530</td>\n      <td>595</td>\n      <td>21.5</td>\n      <td>A4</td>\n      <td>1061004</td>\n    </tr>\n    <tr>\n      <th>4</th>\n      <td>530</td>\n      <td>595</td>\n      <td>21.5</td>\n      <td>A5</td>\n      <td>1016300</td>\n    </tr>\n    <tr>\n      <th>...</th>\n      <td>...</td>\n      <td>...</td>\n      <td>...</td>\n      <td>...</td>\n      <td>...</td>\n    </tr>\n    <tr>\n      <th>211</th>\n      <td>630</td>\n      <td>660</td>\n      <td>21.5</td>\n      <td>H5</td>\n      <td>4266</td>\n    </tr>\n    <tr>\n      <th>212</th>\n      <td>630</td>\n      <td>660</td>\n      <td>21.5</td>\n      <td>H6</td>\n      <td>5750122</td>\n    </tr>\n    <tr>\n      <th>213</th>\n      <td>630</td>\n      <td>660</td>\n      <td>21.5</td>\n      <td>H7</td>\n      <td>5296</td>\n    </tr>\n    <tr>\n      <th>214</th>\n      <td>630</td>\n      <td>660</td>\n      <td>21.5</td>\n      <td>H8</td>\n      <td>5189372</td>\n    </tr>\n    <tr>\n      <th>215</th>\n      <td>630</td>\n      <td>660</td>\n      <td>21.5</td>\n      <td>H9</td>\n      <td>6640</td>\n    </tr>\n  </tbody>\n</table>\n<p>216 rows × 5 columns</p>\n</div>"
     },
     "execution_count": 4,
     "metadata": {},
     "output_type": "execute_result"
    }
   ],
   "source": [
    "measure_1 = my_id5_data.measurements[\"Measurement_1\"]\n",
    "print(f\"Name of the Measuremnt = {measure_1.section_name}\")\n",
    "df_of_measurement_1 = measure_1.working_df\n",
    "\n",
    "df_of_measurement_1"
   ],
   "metadata": {
    "collapsed": false
   }
  },
  {
   "cell_type": "markdown",
   "source": [
    "## How do I get to a single well?\n",
    "\n",
    "Through a function of the objects, this is now relatively simple. You simply need to indicate the well you wish to filter when using the method `get_well()`. Because this is a standard pandas DataFrame, the function `get_well()` does not exist in the dataframe \"df_of_measurement_1\". To access `get_well()`, you have to use the object named measure_1."
   ],
   "metadata": {
    "collapsed": false
   }
  },
  {
   "cell_type": "code",
   "execution_count": 5,
   "outputs": [
    {
     "data": {
      "text/plain": "     excitation wavelength (nm)  emission wavelength (nm)  temperature (°C)  \\\n2                           530                       595              21.5   \n74                          530                       660              21.5   \n146                         630                       660              21.5   \n\n    wellnumber      RFU  \n2           A3   548059  \n74          A3   810202  \n146         A3  3444795  ",
      "text/html": "<div>\n<style scoped>\n    .dataframe tbody tr th:only-of-type {\n        vertical-align: middle;\n    }\n\n    .dataframe tbody tr th {\n        vertical-align: top;\n    }\n\n    .dataframe thead th {\n        text-align: right;\n    }\n</style>\n<table border=\"1\" class=\"dataframe\">\n  <thead>\n    <tr style=\"text-align: right;\">\n      <th></th>\n      <th>excitation wavelength (nm)</th>\n      <th>emission wavelength (nm)</th>\n      <th>temperature (°C)</th>\n      <th>wellnumber</th>\n      <th>RFU</th>\n    </tr>\n  </thead>\n  <tbody>\n    <tr>\n      <th>2</th>\n      <td>530</td>\n      <td>595</td>\n      <td>21.5</td>\n      <td>A3</td>\n      <td>548059</td>\n    </tr>\n    <tr>\n      <th>74</th>\n      <td>530</td>\n      <td>660</td>\n      <td>21.5</td>\n      <td>A3</td>\n      <td>810202</td>\n    </tr>\n    <tr>\n      <th>146</th>\n      <td>630</td>\n      <td>660</td>\n      <td>21.5</td>\n      <td>A3</td>\n      <td>3444795</td>\n    </tr>\n  </tbody>\n</table>\n</div>"
     },
     "execution_count": 5,
     "metadata": {},
     "output_type": "execute_result"
    }
   ],
   "source": [
    "df_A3 = measure_1.get_well(\"A3\")\n",
    "df_A3"
   ],
   "metadata": {
    "collapsed": false
   }
  },
  {
   "cell_type": "markdown",
   "source": [
    "## How do you remove the blank?\n",
    "\n",
    "The program must know two things in order to complete the blank correction :\n",
    "\n",
    "1. Which of the measurements contain blanks?\n",
    "\n",
    "2. Which wells were these blanks measured in?\n",
    "\n",
    "The program will then go through all of the measurements, collecting values from the chosen wells and computing a mean blank.\n",
    "The values in the \"working_df\" of the specified measurements are then background corrected."
   ],
   "metadata": {
    "collapsed": false
   }
  },
  {
   "cell_type": "code",
   "execution_count": 6,
   "outputs": [
    {
     "name": "stdout",
     "output_type": "stream",
     "text": [
      "['Measurement_1', 'Measurement_2', 'Measurement_3', 'Measurement_4', 'Measurement_5', 'Measurement_6', 'Measurement_7', 'Measurement_8', 'Measurement_9', 'Measurement_10', 'Measurement_11', 'Measurement_12', 'Measurement_13', 'Measurement_14', 'Measurement_15', 'Measurement_16', 'Measurement_17', 'Measurement_18', 'Measurement_19', 'Measurement_20', 'Measurement_21', 'Measurement_22', 'Measurement_23']\n",
      "552\n",
      "3477.1485507246375\n"
     ]
    }
   ],
   "source": [
    "# creating a list of measurement names\n",
    "FRET_measurements = []\n",
    "measure_names = my_id5_data.measurements.keys()\n",
    "for name in measure_names:\n",
    "    measurement = my_id5_data.measurements[name]\n",
    "    name_1 = measurement.section_name\n",
    "    if \"FRET\" in name_1:\n",
    "        FRET_measurements.append(name)\n",
    "print(FRET_measurements)\n",
    "\n",
    "#creating a list of wells with blank samples\n",
    "blank_wells = [\"A1\", \"B1\", \"C1\", \"D1\", \"E1\", \"F1\", \"G1\", \"H1\"]\n",
    "\n",
    "#calculating the mean blank and correct the values\n",
    "mean_blank = my_id5_data.calculate_blank(FRET_measurements, blank_wells)\n",
    "print(mean_blank)"
   ],
   "metadata": {
    "collapsed": false
   }
  },
  {
   "cell_type": "markdown",
   "source": [
    "In each defined measurement, the working_df has also modified.  A new column called \"bg_corrected_RFU\" has been added."
   ],
   "metadata": {
    "collapsed": false
   }
  },
  {
   "cell_type": "code",
   "execution_count": 7,
   "outputs": [
    {
     "data": {
      "text/plain": "     excitation wavelength (nm)  emission wavelength (nm)  temperature (°C)  \\\n0                           530                       595              21.5   \n1                           530                       595              21.5   \n2                           530                       595              21.5   \n3                           530                       595              21.5   \n4                           530                       595              21.5   \n..                          ...                       ...               ...   \n211                         630                       660              21.5   \n212                         630                       660              21.5   \n213                         630                       660              21.5   \n214                         630                       660              21.5   \n215                         630                       660              21.5   \n\n    wellnumber      RFU  bg_corrected_RFU  \n0           A1     3910      4.328514e+02  \n1           A2   670661      6.671839e+05  \n2           A3   548059      5.445819e+05  \n3           A4  1061004      1.057527e+06  \n4           A5  1016300      1.012823e+06  \n..         ...      ...               ...  \n211         H5     4266      7.888514e+02  \n212         H6  5750122      5.746645e+06  \n213         H7     5296      1.818851e+03  \n214         H8  5189372      5.185895e+06  \n215         H9     6640      3.162851e+03  \n\n[216 rows x 6 columns]",
      "text/html": "<div>\n<style scoped>\n    .dataframe tbody tr th:only-of-type {\n        vertical-align: middle;\n    }\n\n    .dataframe tbody tr th {\n        vertical-align: top;\n    }\n\n    .dataframe thead th {\n        text-align: right;\n    }\n</style>\n<table border=\"1\" class=\"dataframe\">\n  <thead>\n    <tr style=\"text-align: right;\">\n      <th></th>\n      <th>excitation wavelength (nm)</th>\n      <th>emission wavelength (nm)</th>\n      <th>temperature (°C)</th>\n      <th>wellnumber</th>\n      <th>RFU</th>\n      <th>bg_corrected_RFU</th>\n    </tr>\n  </thead>\n  <tbody>\n    <tr>\n      <th>0</th>\n      <td>530</td>\n      <td>595</td>\n      <td>21.5</td>\n      <td>A1</td>\n      <td>3910</td>\n      <td>4.328514e+02</td>\n    </tr>\n    <tr>\n      <th>1</th>\n      <td>530</td>\n      <td>595</td>\n      <td>21.5</td>\n      <td>A2</td>\n      <td>670661</td>\n      <td>6.671839e+05</td>\n    </tr>\n    <tr>\n      <th>2</th>\n      <td>530</td>\n      <td>595</td>\n      <td>21.5</td>\n      <td>A3</td>\n      <td>548059</td>\n      <td>5.445819e+05</td>\n    </tr>\n    <tr>\n      <th>3</th>\n      <td>530</td>\n      <td>595</td>\n      <td>21.5</td>\n      <td>A4</td>\n      <td>1061004</td>\n      <td>1.057527e+06</td>\n    </tr>\n    <tr>\n      <th>4</th>\n      <td>530</td>\n      <td>595</td>\n      <td>21.5</td>\n      <td>A5</td>\n      <td>1016300</td>\n      <td>1.012823e+06</td>\n    </tr>\n    <tr>\n      <th>...</th>\n      <td>...</td>\n      <td>...</td>\n      <td>...</td>\n      <td>...</td>\n      <td>...</td>\n      <td>...</td>\n    </tr>\n    <tr>\n      <th>211</th>\n      <td>630</td>\n      <td>660</td>\n      <td>21.5</td>\n      <td>H5</td>\n      <td>4266</td>\n      <td>7.888514e+02</td>\n    </tr>\n    <tr>\n      <th>212</th>\n      <td>630</td>\n      <td>660</td>\n      <td>21.5</td>\n      <td>H6</td>\n      <td>5750122</td>\n      <td>5.746645e+06</td>\n    </tr>\n    <tr>\n      <th>213</th>\n      <td>630</td>\n      <td>660</td>\n      <td>21.5</td>\n      <td>H7</td>\n      <td>5296</td>\n      <td>1.818851e+03</td>\n    </tr>\n    <tr>\n      <th>214</th>\n      <td>630</td>\n      <td>660</td>\n      <td>21.5</td>\n      <td>H8</td>\n      <td>5189372</td>\n      <td>5.185895e+06</td>\n    </tr>\n    <tr>\n      <th>215</th>\n      <td>630</td>\n      <td>660</td>\n      <td>21.5</td>\n      <td>H9</td>\n      <td>6640</td>\n      <td>3.162851e+03</td>\n    </tr>\n  </tbody>\n</table>\n<p>216 rows × 6 columns</p>\n</div>"
     },
     "execution_count": 7,
     "metadata": {},
     "output_type": "execute_result"
    }
   ],
   "source": [
    "my_id5_data.measurements[\"Measurement_1\"].working_df"
   ],
   "metadata": {
    "collapsed": false
   }
  },
  {
   "cell_type": "markdown",
   "source": [
    "## How do I insert new data into a new column?\n",
    "\n",
    "Each measurement has its own function here as well. The add_new_column function can be used with a dictionary to assign a new value to an already existing value in the dataFrame. For example, in all rows where the column \"wellnumber\" contains the value \"A1,\" assign the value 10 to a new column \"concentration.\""
   ],
   "metadata": {
    "collapsed": false
   }
  },
  {
   "cell_type": "code",
   "execution_count": 8,
   "outputs": [
    {
     "data": {
      "text/plain": "     excitation wavelength (nm)  emission wavelength (nm)  temperature (°C)  \\\n0                           530                       595              21.5   \n1                           530                       595              21.5   \n2                           530                       595              21.5   \n3                           530                       595              21.5   \n4                           530                       595              21.5   \n..                          ...                       ...               ...   \n211                         630                       660              21.5   \n212                         630                       660              21.5   \n213                         630                       660              21.5   \n214                         630                       660              21.5   \n215                         630                       660              21.5   \n\n    wellnumber      RFU  bg_corrected_RFU  concentration_nM  \n0           A1     3910      4.328514e+02               NaN  \n1           A2   670661      6.671839e+05               0.0  \n2           A3   548059      5.445819e+05              50.0  \n3           A4  1061004      1.057527e+06               0.0  \n4           A5  1016300      1.012823e+06              50.0  \n..         ...      ...               ...               ...  \n211         H5     4266      7.888514e+02               NaN  \n212         H6  5750122      5.746645e+06              25.0  \n213         H7     5296      1.818851e+03               NaN  \n214         H8  5189372      5.185895e+06              25.0  \n215         H9     6640      3.162851e+03               NaN  \n\n[216 rows x 7 columns]",
      "text/html": "<div>\n<style scoped>\n    .dataframe tbody tr th:only-of-type {\n        vertical-align: middle;\n    }\n\n    .dataframe tbody tr th {\n        vertical-align: top;\n    }\n\n    .dataframe thead th {\n        text-align: right;\n    }\n</style>\n<table border=\"1\" class=\"dataframe\">\n  <thead>\n    <tr style=\"text-align: right;\">\n      <th></th>\n      <th>excitation wavelength (nm)</th>\n      <th>emission wavelength (nm)</th>\n      <th>temperature (°C)</th>\n      <th>wellnumber</th>\n      <th>RFU</th>\n      <th>bg_corrected_RFU</th>\n      <th>concentration_nM</th>\n    </tr>\n  </thead>\n  <tbody>\n    <tr>\n      <th>0</th>\n      <td>530</td>\n      <td>595</td>\n      <td>21.5</td>\n      <td>A1</td>\n      <td>3910</td>\n      <td>4.328514e+02</td>\n      <td>NaN</td>\n    </tr>\n    <tr>\n      <th>1</th>\n      <td>530</td>\n      <td>595</td>\n      <td>21.5</td>\n      <td>A2</td>\n      <td>670661</td>\n      <td>6.671839e+05</td>\n      <td>0.0</td>\n    </tr>\n    <tr>\n      <th>2</th>\n      <td>530</td>\n      <td>595</td>\n      <td>21.5</td>\n      <td>A3</td>\n      <td>548059</td>\n      <td>5.445819e+05</td>\n      <td>50.0</td>\n    </tr>\n    <tr>\n      <th>3</th>\n      <td>530</td>\n      <td>595</td>\n      <td>21.5</td>\n      <td>A4</td>\n      <td>1061004</td>\n      <td>1.057527e+06</td>\n      <td>0.0</td>\n    </tr>\n    <tr>\n      <th>4</th>\n      <td>530</td>\n      <td>595</td>\n      <td>21.5</td>\n      <td>A5</td>\n      <td>1016300</td>\n      <td>1.012823e+06</td>\n      <td>50.0</td>\n    </tr>\n    <tr>\n      <th>...</th>\n      <td>...</td>\n      <td>...</td>\n      <td>...</td>\n      <td>...</td>\n      <td>...</td>\n      <td>...</td>\n      <td>...</td>\n    </tr>\n    <tr>\n      <th>211</th>\n      <td>630</td>\n      <td>660</td>\n      <td>21.5</td>\n      <td>H5</td>\n      <td>4266</td>\n      <td>7.888514e+02</td>\n      <td>NaN</td>\n    </tr>\n    <tr>\n      <th>212</th>\n      <td>630</td>\n      <td>660</td>\n      <td>21.5</td>\n      <td>H6</td>\n      <td>5750122</td>\n      <td>5.746645e+06</td>\n      <td>25.0</td>\n    </tr>\n    <tr>\n      <th>213</th>\n      <td>630</td>\n      <td>660</td>\n      <td>21.5</td>\n      <td>H7</td>\n      <td>5296</td>\n      <td>1.818851e+03</td>\n      <td>NaN</td>\n    </tr>\n    <tr>\n      <th>214</th>\n      <td>630</td>\n      <td>660</td>\n      <td>21.5</td>\n      <td>H8</td>\n      <td>5189372</td>\n      <td>5.185895e+06</td>\n      <td>25.0</td>\n    </tr>\n    <tr>\n      <th>215</th>\n      <td>630</td>\n      <td>660</td>\n      <td>21.5</td>\n      <td>H9</td>\n      <td>6640</td>\n      <td>3.162851e+03</td>\n      <td>NaN</td>\n    </tr>\n  </tbody>\n</table>\n<p>216 rows × 7 columns</p>\n</div>"
     },
     "execution_count": 8,
     "metadata": {},
     "output_type": "execute_result"
    }
   ],
   "source": [
    "#Information about concentration of ions in nM\n",
    "concentrations = {\"A2\":0,\"B2\":1,\"C2\":2.5,\"D2\":5, \"E2\":7.5,\"F2\":10, \"G2\":12.5,\"H2\":25,\n",
    "             \"A3\":50,\"B3\":75,\"C3\":100,\"D3\":500,\n",
    "             \"A4\":0,\"B4\":1,\"C4\":2.5,\"D4\":5,\"E4\":7.5,\"F4\":10, \"G4\":12.5, \"H4\":25,\n",
    "             \"A5\":50,\"B5\":75,\"C5\":100,\"D5\":500,\n",
    "             \"A6\":0,\"B6\":1, \"C6\":2.5,\"D6\":5,\"E6\":7.5,\"F6\":10,\"G6\":12.5,\"H6\":25,\n",
    "             \"A7\":50,\"B7\":75,\"C7\":100, \"D7\":500,\n",
    "             \"A8\":0,\"B8\":1,\"C8\":2.5, \"D8\":5, \"E8\":7.5,\"F8\":10,\"G8\":12.5,\"H8\":25,\n",
    "             \"A9\":50,\"B9\":75,\"C9\":100,\"D9\":500\n",
    "}\n",
    "\n",
    "# Do it for 1 Measurement:\n",
    "my_id5_data.measurements[\"Measurement_1\"].add_new_column(\"wellnumber\", concentrations, \"concentration_nM\")\n",
    "my_id5_data.measurements[\"Measurement_1\"].working_df"
   ],
   "metadata": {
    "collapsed": false
   }
  },
  {
   "cell_type": "code",
   "execution_count": 9,
   "outputs": [
    {
     "data": {
      "text/plain": "     excitation wavelength (nm)  emission wavelength (nm)  temperature (°C)  \\\n0                           530                       595                37   \n1                           530                       595                37   \n2                           530                       595                37   \n3                           530                       595                37   \n4                           530                       595                37   \n..                          ...                       ...               ...   \n211                         630                       660                37   \n212                         630                       660                37   \n213                         630                       660                37   \n214                         630                       660                37   \n215                         630                       660                37   \n\n    wellnumber      RFU  bg_corrected_RFU  concentraion_nM  \n0           A1     3466     -1.114855e+01              NaN  \n1           A2   577470      5.739929e+05              0.0  \n2           A3   452732      4.492549e+05             50.0  \n3           A4   851364      8.478869e+05              0.0  \n4           A5   805148      8.016709e+05             50.0  \n..         ...      ...               ...              ...  \n211         H5     6070      2.592851e+03              NaN  \n212         H6  4835381      4.831904e+06             25.0  \n213         H7     4750      1.272851e+03              NaN  \n214         H8  4201660      4.198183e+06             25.0  \n215         H9     7364      3.886851e+03              NaN  \n\n[216 rows x 7 columns]",
      "text/html": "<div>\n<style scoped>\n    .dataframe tbody tr th:only-of-type {\n        vertical-align: middle;\n    }\n\n    .dataframe tbody tr th {\n        vertical-align: top;\n    }\n\n    .dataframe thead th {\n        text-align: right;\n    }\n</style>\n<table border=\"1\" class=\"dataframe\">\n  <thead>\n    <tr style=\"text-align: right;\">\n      <th></th>\n      <th>excitation wavelength (nm)</th>\n      <th>emission wavelength (nm)</th>\n      <th>temperature (°C)</th>\n      <th>wellnumber</th>\n      <th>RFU</th>\n      <th>bg_corrected_RFU</th>\n      <th>concentraion_nM</th>\n    </tr>\n  </thead>\n  <tbody>\n    <tr>\n      <th>0</th>\n      <td>530</td>\n      <td>595</td>\n      <td>37</td>\n      <td>A1</td>\n      <td>3466</td>\n      <td>-1.114855e+01</td>\n      <td>NaN</td>\n    </tr>\n    <tr>\n      <th>1</th>\n      <td>530</td>\n      <td>595</td>\n      <td>37</td>\n      <td>A2</td>\n      <td>577470</td>\n      <td>5.739929e+05</td>\n      <td>0.0</td>\n    </tr>\n    <tr>\n      <th>2</th>\n      <td>530</td>\n      <td>595</td>\n      <td>37</td>\n      <td>A3</td>\n      <td>452732</td>\n      <td>4.492549e+05</td>\n      <td>50.0</td>\n    </tr>\n    <tr>\n      <th>3</th>\n      <td>530</td>\n      <td>595</td>\n      <td>37</td>\n      <td>A4</td>\n      <td>851364</td>\n      <td>8.478869e+05</td>\n      <td>0.0</td>\n    </tr>\n    <tr>\n      <th>4</th>\n      <td>530</td>\n      <td>595</td>\n      <td>37</td>\n      <td>A5</td>\n      <td>805148</td>\n      <td>8.016709e+05</td>\n      <td>50.0</td>\n    </tr>\n    <tr>\n      <th>...</th>\n      <td>...</td>\n      <td>...</td>\n      <td>...</td>\n      <td>...</td>\n      <td>...</td>\n      <td>...</td>\n      <td>...</td>\n    </tr>\n    <tr>\n      <th>211</th>\n      <td>630</td>\n      <td>660</td>\n      <td>37</td>\n      <td>H5</td>\n      <td>6070</td>\n      <td>2.592851e+03</td>\n      <td>NaN</td>\n    </tr>\n    <tr>\n      <th>212</th>\n      <td>630</td>\n      <td>660</td>\n      <td>37</td>\n      <td>H6</td>\n      <td>4835381</td>\n      <td>4.831904e+06</td>\n      <td>25.0</td>\n    </tr>\n    <tr>\n      <th>213</th>\n      <td>630</td>\n      <td>660</td>\n      <td>37</td>\n      <td>H7</td>\n      <td>4750</td>\n      <td>1.272851e+03</td>\n      <td>NaN</td>\n    </tr>\n    <tr>\n      <th>214</th>\n      <td>630</td>\n      <td>660</td>\n      <td>37</td>\n      <td>H8</td>\n      <td>4201660</td>\n      <td>4.198183e+06</td>\n      <td>25.0</td>\n    </tr>\n    <tr>\n      <th>215</th>\n      <td>630</td>\n      <td>660</td>\n      <td>37</td>\n      <td>H9</td>\n      <td>7364</td>\n      <td>3.886851e+03</td>\n      <td>NaN</td>\n    </tr>\n  </tbody>\n</table>\n<p>216 rows × 7 columns</p>\n</div>"
     },
     "execution_count": 9,
     "metadata": {},
     "output_type": "execute_result"
    }
   ],
   "source": [
    "# Do it for all FRET Measurements\n",
    "for measurement_name, measurement in my_id5_data.measurements.items():\n",
    "    if \"FRET\" in measurement.section_name:\n",
    "        measurement.add_new_column(\"wellnumber\", concentrations, \"concentraion_nM\")\n",
    "#Example print\n",
    "my_id5_data.measurements[\"Measurement_9\"].working_df"
   ],
   "metadata": {
    "collapsed": false
   }
  },
  {
   "cell_type": "code",
   "execution_count": 9,
   "outputs": [],
   "source": [],
   "metadata": {
    "collapsed": false
   }
  }
 ],
 "metadata": {
  "kernelspec": {
   "display_name": "Python 3 (ipykernel)",
   "language": "python",
   "name": "python3"
  },
  "language_info": {
   "codemirror_mode": {
    "name": "ipython",
    "version": 3
   },
   "file_extension": ".py",
   "mimetype": "text/x-python",
   "name": "python",
   "nbconvert_exporter": "python",
   "pygments_lexer": "ipython3",
   "version": "3.9.7"
  }
 },
 "nbformat": 4,
 "nbformat_minor": 5
}
