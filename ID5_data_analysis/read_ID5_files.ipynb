{
 "cells": [
  {
   "cell_type": "markdown",
   "id": "52a09a63-8b7e-4e09-8a0b-bed854e5d39d",
   "metadata": {},
   "source": [
    "# Auswertung mit ganzen ID5 Files 15.06.2022"
   ]
  },
  {
   "cell_type": "code",
   "execution_count": 1,
   "id": "7722b222",
   "metadata": {},
   "outputs": [],
   "source": [
    "import matplotlib.pyplot as plt\n",
    "import pandas as pd\n",
    "import numpy as np\n",
    "import math\n",
    "from scipy.optimize import curve_fit\n",
    "# Formel für die Regression\n",
    "def lin (a, x, b):\n",
    "    return a * x + b\n",
    "import seaborn as sns\n",
    "def set_ticksStyle(x_size=30, y_size=30, x_dir='in', y_dir='in'):\n",
    "    sns.set_style('ticks', {'xtick.major.size': x_size, 'ytick.major.size': y_size, 'xtick.direction': x_dir, 'ytick.direction': y_dir})"
   ]
  },
  {
   "cell_type": "markdown",
   "id": "46a58293",
   "metadata": {},
   "source": [
    "Hier erstell ich eine Liste mit allen möglichen Well identifier. Die braucht man später bei der Melt Funktion in Pandas"
   ]
  },
  {
   "cell_type": "code",
   "execution_count": 2,
   "id": "17b101cf",
   "metadata": {},
   "outputs": [
    {
     "name": "stdout",
     "output_type": "stream",
     "text": [
      "['A1', 'A2', 'A3', 'A4', 'A5', 'A6', 'A7', 'A8', 'A9', 'A10', 'A11', 'A12', 'B1', 'B2', 'B3', 'B4', 'B5', 'B6', 'B7', 'B8', 'B9', 'B10', 'B11', 'B12', 'C1', 'C2', 'C3', 'C4', 'C5', 'C6', 'C7', 'C8', 'C9', 'C10', 'C11', 'C12', 'D1', 'D2', 'D3', 'D4', 'D5', 'D6', 'D7', 'D8', 'D9', 'D10', 'D11', 'D12', 'E1', 'E2', 'E3', 'E4', 'E5', 'E6', 'E7', 'E8', 'E9', 'E10', 'E11', 'E12', 'F1', 'F2', 'F3', 'F4', 'F5', 'F6', 'F7', 'F8', 'F9', 'F10', 'F11', 'F12', 'G1', 'G2', 'G3', 'G4', 'G5', 'G6', 'G7', 'G8', 'G9', 'G10', 'G11', 'G12', 'H1', 'H2', 'H3', 'H4', 'H5', 'H6', 'H7', 'H8', 'H9', 'H10', 'H11', 'H12']\n"
     ]
    }
   ],
   "source": [
    "letter=[\"A\",\"B\",\"C\",\"D\",\"E\",\"F\",\"G\",\"H\"]\n",
    "plate = []\n",
    "for l in letter:\n",
    "    for i in range(1,13):\n",
    "        plate.append(l+str(i))\n",
    "        \n",
    "print(plate)"
   ]
  },
  {
   "cell_type": "markdown",
   "id": "e3589492",
   "metadata": {},
   "source": [
    "### Einlesen und Datenverarbeitung\n",
    "Hier passiert die ganze Magie. Mit `with open`kann eine Datei geöffnet werden. Dann werden die Zeilen gelesen solange diese nicht leer sind. Mit den Bedingungen kann dann zwischen Messung und Meta und Ende gefiltert werden. Wenn ein `~End` kommt werden die Dataframes gebaut und in ein Dictionary gespeichert. Danach wird alles initialisiert und die nächste Runde geht los. Details in den Kommentaren."
   ]
  },
  {
   "cell_type": "code",
   "execution_count": 3,
   "id": "daddbe4d-7669-41c4-985f-b26b77413de1",
   "metadata": {},
   "outputs": [],
   "source": [
    "# Initialisieren aller Variablen\n",
    "meta = []\n",
    "data = []\n",
    "cols = []\n",
    "data_dict = {}\n",
    "iterator = 0\n",
    "# Öffnen der CSV Datei\n",
    "with open('data/test_measure.txt', 'r') as reader:\n",
    "    # Read and print the entire file line by line\n",
    "    # Hier wird die erste Zeile gelesen\n",
    "    line = reader.readline()\n",
    "    # Hier werden die Metadaten rein geladen für die aller erste Zeile nur. line.split() erstellt eine Liste mit allen Elementen zwischen den ;\n",
    "    meta = line.split(\"\\t\")\n",
    "    # Alles was in der Liste leer ist wird rausgelöscht\n",
    "    meta = list(filter(None, meta))\n",
    "    # Nun gehen wir Zeilenweise durch die Datei bis diese leer ist\n",
    "    while line !=\"\":\n",
    "        # Hier wird wieder eine Zeile gelesen\n",
    "        line = reader.readline()\n",
    "        #print(line)\n",
    "        # Umbrüche werden weggelöscht\n",
    "        line = line.strip('\\n')\n",
    "        #print(line)\n",
    "        # Wenn die Zeile mit ~End starte, wird das vorher gelesene Zeug verarbeitet\n",
    "        if line.startswith(\"~End\"):\n",
    "            # Aus einer Liste wird ein Dataframe mit den gelesenen Spaltennamen\n",
    "            df = pd.DataFrame(data, columns=cols)\n",
    "            # Erste Zeile des Dataframes wird gelöscht, da hier die Spaltennamen stehen\n",
    "            df = df.iloc[1: , :]\n",
    "            # Leere Spalten werden durch NaN ersetzt\n",
    "            df = df.replace(\"\", np.nan)\n",
    "            # Spalten die NaN ausweisen werden entfernt\n",
    "            df = df.dropna(axis=1, how=\"any\")\n",
    "            #print(df)\n",
    "            # Nun wird die Tabelle geschmolzen. Heißt die Wellnummern werden der Wavelength und der Temperatur zugeordet. Mit list(set(plate).intersection(df.columns)) werden nur die Wellnummern gefilter die es auch wirklich gibt\n",
    "            df = df.melt(id_vars = df.columns[:2],value_vars= list(set(plate).intersection(df.columns)))\n",
    "            # Dataframe wird dem Dictionary zugeordnet duch einen Iterator. Die erste verabreitete Messung ist dann Messung 0 usw.\n",
    "            data_dict[f\"Messung{iterator}\"] = df\n",
    "            data_dict[f\"Metadaten{iterator}\"] = meta\n",
    "            #df.to_csv(f\"Messung{iterator}.csv\",index=False)\n",
    "            # Reinitialisieren für den nächsten durchgang\n",
    "            meta = list()\n",
    "            data = list()\n",
    "            cols = list()\n",
    "            iterator += 1\n",
    "            df.empty\n",
    "        # Metadaten werden ausgelesen. Wie oben. Der obere Befehl gilt nur für die erste Zeile in der Datei\n",
    "        elif line.startswith(\"Plate\"):\n",
    "            meta = line.split(\"\\t\")\n",
    "            meta = list(filter(None, meta))\n",
    "        # Hier werden die Spaltennamen als Liste gespeichert. Das braucht man um den Dataframe anzulegen\n",
    "        elif line.startswith(\"Wavelength\"):\n",
    "            cols = line.split(\"\\t\")\n",
    "            #print(cols)\n",
    "        # Wenn kein Plate oder ~End oder nichts steht werden Daten in eine Liste geschrieben die später zum DataFrame gebaut werden\n",
    "        elif any(line.split(\"\\t\")) != False and line.split(\"\\t\")[0] != \"Plate:\" and line.split(\"\\t\")[0] != \"~End\" and line.split(\"\\t\")[0] != \"Wavelength:\":\n",
    "            hlp = line.split(\"\\t\")\n",
    "            #print(hlp)\n",
    "            data.append(hlp)"
   ]
  },
  {
   "cell_type": "markdown",
   "id": "2c3e13b9",
   "metadata": {},
   "source": [
    "### Zugriff auf die Daten im Dictionary\n",
    "Im data_dict stehen nun alle Daten aus der Datei. Jetzt kann jede Messung einzeln angesteuert werden."
   ]
  },
  {
   "cell_type": "code",
   "execution_count": 4,
   "id": "c6ce2998",
   "metadata": {},
   "outputs": [
    {
     "name": "stdout",
     "output_type": "stream",
     "text": [
      "dict_keys(['Messung0', 'Metadaten0', 'Messung1', 'Metadaten1', 'Messung2', 'Metadaten2', 'Messung3', 'Metadaten3'])\n"
     ]
    }
   ],
   "source": [
    "print(data_dict.keys())"
   ]
  },
  {
   "cell_type": "code",
   "execution_count": 5,
   "id": "e668fde8",
   "metadata": {},
   "outputs": [
    {
     "name": "stdout",
     "output_type": "stream",
     "text": [
      "['Plate:', 'Cy3_em', '1.3', 'TimeFormat', 'Spectrum', 'Fluorescence', 'FALSE', 'Raw', 'FALSE', '76', '500', '650', '2', '1', '1', '96', 'Manual', 'Emission Sweep', '480', '6', 'Automatic', '1', '3', '\\n']\n",
      "A2\n",
      "A1\n",
      "B1\n",
      "C1\n",
      "None\n"
     ]
    }
   ],
   "source": [
    "def unique(list1):\n",
    "  \n",
    "    # initialize a null list\n",
    "    unique_list = []\n",
    "      \n",
    "    # traverse for all elements\n",
    "    for x in list1:\n",
    "        # check if exists in unique_list or not\n",
    "        if x not in unique_list:\n",
    "            unique_list.append(x)\n",
    "    # print list\n",
    "    for x in unique_list:\n",
    "        print (x)\n",
    "\n",
    "Messung_1 = data_dict[\"Messung0\"]\n",
    "print(data_dict[\"Metadaten0\"])\n",
    "print(unique(Messung_1[\"variable\"]))\n",
    "#m_F_517_470 = Messung[(Messung.loc[:,'Farbstoff'] == \"Fluorescein\") & (Messung.loc[:,('Em')] == 517)]\n",
    "MA1 = Messung_1[(Messung_1.loc[:,'variable'] == 'A1')]\n",
    "MA2 = Messung_1[(Messung_1.loc[:,'variable'] == 'A2')]\n",
    "MB1 = Messung_1[(Messung_1.loc[:,'variable'] == 'B1')]\n",
    "MC1 = Messung_1[(Messung_1.loc[:,'variable'] == 'C1')]"
   ]
  },
  {
   "cell_type": "code",
   "execution_count": 6,
   "id": "722fbe34-26a4-4993-a304-a0e9e8a16b24",
   "metadata": {},
   "outputs": [
    {
     "data": {
      "text/plain": [
       "Text(0, 0.5, 'RFU')"
      ]
     },
     "execution_count": 6,
     "metadata": {},
     "output_type": "execute_result"
    },
    {
     "data": {
      "image/png": "[encoded data removed]",
      "text/plain": [
       "<Figure size 1440x216 with 4 Axes>"
      ]
     },
     "metadata": {
      "needs_background": "light"
     },
     "output_type": "display_data"
    }
   ],
   "source": [
    "\n",
    "\n",
    "f, ax = plt.subplots(nrows=1, ncols=4, figsize=(20, 3), sharex=False, sharey=False, squeeze=False)\n",
    "ax[0,0].scatter([float(i) for i in MA1[\"Wavelength\"]] ,[float(i) for i in MA1[\"value\"]], marker=\"x\", color=\"black\")\n",
    "ax[0,0].set_title(\"A1\")\n",
    "ax[0,0].set_xlim([520,640])\n",
    "ax[0,0].set_ylim([0,4000000])\n",
    "\n",
    "ax[0,1].scatter([float(i) for i in MA2[\"Wavelength\"]] ,[float(i) for i in MA2[\"value\"]], marker=\"x\", color=\"black\")\n",
    "ax[0,1].set_title(\"A2\")\n",
    "ax[0,1].set_xlim([520,640])\n",
    "ax[0,1].set_ylim([0,4000000])\n",
    "\n",
    "ax[0,2].scatter([float(i) for i in MB1[\"Wavelength\"]] ,[float(i) for i in MB1[\"value\"]], marker=\"x\", color=\"black\")\n",
    "ax[0,2].set_title(\"B1\")\n",
    "ax[0,2].set_xlim([520,640])\n",
    "ax[0,2].set_ylim([0,40000])\n",
    "\n",
    "ax[0,3].scatter([float(i) for i in MC1[\"Wavelength\"]] ,[float(i) for i in MC1[\"value\"]], marker=\"x\", color=\"black\")\n",
    "ax[0,3].set_title(\"C1\")\n",
    "#ax[0,3].set_xlim([600,650])\n",
    "#ax[0,3].set_ylim([0,40000])\n",
    "\n",
    "plt.xlabel(r'wavelength $\\mathregular{\\lambda}$')\n",
    "plt.ylabel(\"RFU\")\n",
    "     "
   ]
  }
 ],
 "metadata": {
  "kernelspec": {
   "display_name": "Physik_Praktikum",
   "language": "python",
   "name": "physik_praktikum"
  },
  "language_info": {
   "codemirror_mode": {
    "name": "ipython",
    "version": 3
   },
   "file_extension": ".py",
   "mimetype": "text/x-python",
   "name": "python",
   "nbconvert_exporter": "python",
   "pygments_lexer": "ipython3",
   "version": "3.9.7"
  }
 },
 "nbformat": 4,
 "nbformat_minor": 5
}
