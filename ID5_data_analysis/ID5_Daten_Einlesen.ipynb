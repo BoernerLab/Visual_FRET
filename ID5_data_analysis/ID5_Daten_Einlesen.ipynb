{
 "cells": [
  {
   "cell_type": "markdown",
   "metadata": {},
   "source": [
    "# ID5 file parser\n",
    "\n",
    "To import the experimental data from the iD5 in python, the function **read_ID5_data** can be used. For this, only the file path must be specified in the function"
   ]
  },
  {
   "cell_type": "code",
   "execution_count": 1,
   "metadata": {},
   "outputs": [],
   "source": [
    "# Import of used libraries\n",
    "import matplotlib.pyplot as plt\n",
    "import seaborn as sns\n",
    "import pandas as pd\n",
    "from pandas import DataFrame\n",
    "import numpy as np\n",
    "import math\n",
    "import regex as re\n",
    "from scipy.optimize import curve_fit\n",
    "from asyncore import read\n",
    "\n",
    "# Formula for the regression\n",
    "def lin (a, x, b):\n",
    "    return a * x + b\n",
    "\n",
    "def set_ticksStyle(x_size=30, y_size=30, x_dir='in', y_dir='in'):\n",
    "    sns.set_style('ticks', {'xtick.major.size': x_size, 'ytick.major.size': y_size, 'xtick.direction': x_dir, 'ytick.direction': y_dir})"
   ]
  },
  {
   "cell_type": "markdown",
   "metadata": {},
   "source": [
    "### Function to read ID5 file"
   ]
  },
  {
   "cell_type": "code",
   "execution_count": 2,
   "metadata": {},
   "outputs": [],
   "source": [
    "# Function to read ID5 ... Data\n",
    "def read_ID5_data(filepath):\n",
    "    # create a list with all possible well identifiers. \n",
    "    # needed later with the Melt function in Pandas\n",
    "    letter=[\"A\",\"B\",\"C\",\"D\",\"E\",\"F\",\"G\",\"H\"]\n",
    "    plate = []\n",
    "    for l in letter:\n",
    "        for i in range(1,13):\n",
    "            plate.append(l+str(i))\n",
    "\n",
    "    # initialisation of all variables\n",
    "    meta = []\n",
    "    data = []\n",
    "    cols = []\n",
    "    data_dict = {}\n",
    "    iterator = 1\n",
    "\n",
    "    # opening the CSV file\n",
    "    with open(filepath, 'r', encoding='UTF-8') as file:\n",
    "        # skip first line\n",
    "        next(file)\n",
    "        # read file line by line\n",
    "        lines = file.readlines()\n",
    "        # go through lines line by line\n",
    "        for line in lines:\n",
    "            # skip blank lines\n",
    "            if not line.isspace():\n",
    "                # delete new lines\n",
    "                line = line.strip('\\n')\n",
    "                # skip the Group-part of the document\n",
    "                if line.startswith('Group'):\n",
    "                    break\n",
    "                if line.startswith(\"Plate\"):\n",
    "                    # Here the metadata is loaded in for the very first line only. line.split() creates a list with all elements between the \";\"\n",
    "                    meta = line.split(\"\\t\")\n",
    "                    # Everything that is empty in the list is deleted\n",
    "                    meta = list(filter(None, meta))\n",
    "                elif line.startswith(\"Wavelength\"):\n",
    "                    cols = line.split('\\t')\n",
    "                # If the line starts with ~End, the previously read stuff is processed\n",
    "                elif line.startswith(\"~End\"):\n",
    "                    # create a dataframe with the read column names from an empty list\n",
    "                    df = pd.DataFrame(data, columns=cols)\n",
    "                    # delete first row of dataframe (it contains the column names)\n",
    "                    df = df.iloc[1: , :]\n",
    "                    # replace empty columns with NaNs\n",
    "                    df = df.replace(\"\", np.nan)\n",
    "                    # delete columns containing NaNs\n",
    "                    df = df.dropna(axis=1, how=\"any\")\n",
    "                    # Now the table is melted. That means the well numbers are assigned to the wavelength and the temperature. With list(set(plate).intersection(df.columns)) only the well numbers are filtered which really exist.\n",
    "                    df = df.melt(id_vars = df.columns[:2],value_vars= list(set(plate).intersection(df.columns)))\n",
    "                    # renaming the columns\n",
    "                    df.columns = [\"wavelength\", \"temperature\", \"well\", \"value\"]\n",
    "                    # change values in columns wavelength, temperature and value to numeric values to be on the safe side\n",
    "                    df[[\"wavelength\", \"temperature\", \"value\"]] = df[[\"wavelength\", \"temperature\", \"value\"]].apply(pd.to_numeric)\n",
    "                    #  sort dataframe; first by ascending wavelength, then by ascending well\n",
    "                    df_sort = df.sort_values(['wavelength', 'well'], ignore_index = True)\n",
    "                    # Creating an empty list for corrected measured values, which are calculated following\n",
    "                    liste = []\n",
    "                    # go through wavelengths\n",
    "                    for wavelength in pd.unique(df_sort['wavelength']):\n",
    "                        # create sub-dataframe for every wavelengths\n",
    "                        sub_df = df_sort[df_sort['wavelength'] == wavelength]\n",
    "                        # go through wells A-H in this sub-dataframe\n",
    "                        for well in pd.unique(sub_df['well'].str[0]):\n",
    "                            # create another data frame containing only those wells of the same type (e.g. A)\n",
    "                            char_df = sub_df[sub_df['well'].str[0] == well[0]]\n",
    "                            # identification of value to be subtracted from the other values\n",
    "                            val1 = char_df['value'].iloc[0]\n",
    "                            # corrected values: val1 ist substracted from all values\n",
    "                            corr_vals = char_df['value'] - val1\n",
    "                            # append corrected values to empty list\n",
    "                            liste.append(corr_vals)\n",
    "\n",
    "                    # List with corrected values is appended to the sorted dataframe as an additional column\n",
    "                    df_sort['corrected_value'] = pd.concat(liste)\n",
    "                    # dataframe is assigned to the dictionary by an iterator. The first measurement taken is then measurement 0 and so on.\n",
    "                    data_dict[f\"Measurement{iterator}\"] = df_sort\n",
    "                    data_dict[f\"Metadata{iterator}\"] = meta\n",
    "                    # Reinitialization for next loop\n",
    "                    meta = list()\n",
    "                    data = list()\n",
    "                    cols = list()\n",
    "                    iterator += 1\n",
    "                    df.empty\n",
    "                    pass\n",
    "                # If there is no Plate or ~End or nothing, data is written to a list that will later be built into the DataFrame.\n",
    "                else:\n",
    "                    if len(line.split('\\t')) > 0:\n",
    "                        hlp = line.split('\\t')\n",
    "                        data.append(hlp)\n",
    "    return data_dict  "
   ]
  },
  {
   "cell_type": "markdown",
   "metadata": {},
   "source": [
    "### Using the function \"read_ID5_data\"\n",
    "\n",
    "In the following code block, the usage of the function **read_ID5_data** is demonstrated. The file path must be specified. If the file to be read is located in the same folder as the Jupyter Notebook, then the file name is sufficient."
   ]
  },
  {
   "cell_type": "code",
   "execution_count": 3,
   "metadata": {},
   "outputs": [
    {
     "name": "stdout",
     "output_type": "stream",
     "text": [
      "dict_keys(['Measurement1', 'Metadata1', 'Measurement2', 'Metadata2'])\n"
     ]
    }
   ],
   "source": [
    "# reading the file\n",
    "data_ID5 = read_ID5_data(\"data/example_file.txt\")\n",
    "# Measurement output\n",
    "print(data_ID5.keys())"
   ]
  },
  {
   "cell_type": "markdown",
   "metadata": {},
   "source": [
    "The following Codeblock shows how to access the individual measurements:"
   ]
  },
  {
   "cell_type": "code",
   "execution_count": 4,
   "metadata": {},
   "outputs": [],
   "source": [
    "M1 = data_ID5[\"Measurement1\"]\n",
    "M2 = data_ID5[\"Measurement2\"]"
   ]
  },
  {
   "cell_type": "markdown",
   "metadata": {},
   "source": [
    "### Function to get specific well from specific measurement"
   ]
  },
  {
   "cell_type": "code",
   "execution_count": 5,
   "metadata": {},
   "outputs": [],
   "source": [
    "def get_well(dataframe: DataFrame, measurement: str, wellnumber: str):\n",
    "    try: \n",
    "        meas_x = dataframe[measurement]\n",
    "    except KeyError:\n",
    "        print(\"Measurement does not exist.\")\n",
    "    else:\n",
    "        meas_well = meas_x[(meas_x.loc[:,'well'] == wellnumber)]\n",
    "        if meas_well.empty:\n",
    "            print(\"Wellnumber does not exist.\")\n",
    "        else:\n",
    "            return meas_well"
   ]
  },
  {
   "cell_type": "markdown",
   "metadata": {},
   "source": [
    "### Using the function \"get_well\""
   ]
  },
  {
   "cell_type": "code",
   "execution_count": 6,
   "metadata": {},
   "outputs": [],
   "source": [
    "M1_A1 = get_well(dataframe = data_ID5, measurement = \"Measurement1\", wellnumber = \"A1\")\n",
    "M1_A2 = get_well(dataframe = data_ID5, measurement = \"Measurement1\", wellnumber = \"A2\")\n",
    "M1_B2 = get_well(dataframe = data_ID5, measurement = \"Measurement1\", wellnumber = \"B2\")\n",
    "M1_C2 = get_well(dataframe = data_ID5, measurement = \"Measurement1\", wellnumber = \"C2\")\n",
    "\n",
    "# or shorter (but keep order in mind):\n",
    "\n",
    "M1_D2_short = get_well(data_ID5, \"Measurement1\", \"D2\")"
   ]
  },
  {
   "cell_type": "code",
   "execution_count": 7,
   "metadata": {},
   "outputs": [
    {
     "data": {
      "image/png": "[encoded data removed]",
      "text/plain": [
       "<Figure size 1440x216 with 4 Axes>"
      ]
     },
     "metadata": {
      "needs_background": "light"
     },
     "output_type": "display_data"
    }
   ],
   "source": [
    "f, ax = plt.subplots(nrows=1, ncols=4, figsize=(20, 3), sharex=False, sharey=False, squeeze=False)\n",
    "plt.subplots_adjust(left=None, bottom=None, right=None, top=None, wspace=0.25, hspace=None)\n",
    "\n",
    "ax[0,0].scatter(M1_A2[\"wavelength\"], M1_A2[\"corrected_value\"], marker=\"x\", color=\"#41ab5d\")\n",
    "ax[0,0].set_title(\"A2\")\n",
    "\n",
    "ax[0,1].scatter(M1_B2[\"wavelength\"], M1_B2[\"value\"], marker=\"x\", color=\"#dd3497\")\n",
    "ax[0,1].set_title(\"B2\")\n",
    "\n",
    "ax[0,2].scatter(M1_C2[\"wavelength\"], M1_C2[\"value\"], marker=\"x\", color=\"#7a0177\")\n",
    "ax[0,2].set_title(\"C2\")\n",
    "\n",
    "ax[0,3].scatter(M1_D2_short[\"wavelength\"], M1_D2_short[\"value\"], marker=\"x\", color=\"#fa9fb5\", label='D2')\n",
    "ax[0,3].set_title(\"D2\")\n",
    "ax[0,3].legend(frameon=True, handlelength=0.75, fontsize='large', loc='upper right', bbox_to_anchor=(1.00, 1.00))\n",
    "\n",
    "# set labels\n",
    "plt.setp(ax[:, :], xlabel='wavelength $\\mathregular{\\lambda}$ in nm')\n",
    "plt.setp(ax[:, :], ylabel='RFU')\n",
    "\n",
    "#plt.savefig(f\"2022-07-07_Cy3_em.png\", dpi=300, bbox_inches=\"tight\")\n",
    "plt.show()"
   ]
  },
  {
   "cell_type": "markdown",
   "metadata": {},
   "source": [
    "### ToDo: Function to get multiple wells from one specific measurement"
   ]
  }
 ],
 "metadata": {
  "kernelspec": {
   "display_name": "pyvo",
   "language": "python",
   "name": "pyvo"
  },
  "language_info": {
   "codemirror_mode": {
    "name": "ipython",
    "version": 3
   },
   "file_extension": ".py",
   "mimetype": "text/x-python",
   "name": "python",
   "nbconvert_exporter": "python",
   "pygments_lexer": "ipython3",
   "version": "3.9.6"
  },
  "vscode": {
   "interpreter": {
    "hash": "c73dabc6ebeda99730e0742c377bb5f9a60682241e5611a108fd7d7d1d2f45ed"
   }
  }
 },
 "nbformat": 4,
 "nbformat_minor": 4
}
